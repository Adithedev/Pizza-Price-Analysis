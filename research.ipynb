{
 "cells": [
  {
   "cell_type": "markdown",
   "id": "3c52d5c8",
   "metadata": {},
   "source": [
    " #  Pizza Price Data\n"
   ]
  },
  {
   "cell_type": "markdown",
   "id": "af1ac4be",
   "metadata": {},
   "source": [
    "### Preparing the data"
   ]
  },
  {
   "cell_type": "markdown",
   "id": "bafdc313",
   "metadata": {},
   "source": [
    "#### Installing the essentials\n"
   ]
  },
  {
   "cell_type": "code",
   "execution_count": 3,
   "id": "63069010",
   "metadata": {},
   "outputs": [],
   "source": [
    "import pandas as pd\n",
    "import numpy as np\n",
    "import matplotlib.pyplot as plt\n",
    "import seaborn as sns"
   ]
  },
  {
   "cell_type": "markdown",
   "id": "cd3fe778",
   "metadata": {},
   "source": [
    "#### Reading the csv file"
   ]
  },
  {
   "cell_type": "code",
   "execution_count": 4,
   "id": "1b790990",
   "metadata": {},
   "outputs": [
    {
     "data": {
      "text/html": [
       "<div>\n",
       "<style scoped>\n",
       "    .dataframe tbody tr th:only-of-type {\n",
       "        vertical-align: middle;\n",
       "    }\n",
       "\n",
       "    .dataframe tbody tr th {\n",
       "        vertical-align: top;\n",
       "    }\n",
       "\n",
       "    .dataframe thead th {\n",
       "        text-align: right;\n",
       "    }\n",
       "</style>\n",
       "<table border=\"1\" class=\"dataframe\">\n",
       "  <thead>\n",
       "    <tr style=\"text-align: right;\">\n",
       "      <th></th>\n",
       "      <th>Company</th>\n",
       "      <th>Pizza Name</th>\n",
       "      <th>Type</th>\n",
       "      <th>Size</th>\n",
       "      <th>Price</th>\n",
       "    </tr>\n",
       "  </thead>\n",
       "  <tbody>\n",
       "    <tr>\n",
       "      <th>0</th>\n",
       "      <td>Domino's Pizza</td>\n",
       "      <td>Hand Tossed</td>\n",
       "      <td>Cheeses Pizza</td>\n",
       "      <td>Small (10\")</td>\n",
       "      <td>$5.99</td>\n",
       "    </tr>\n",
       "    <tr>\n",
       "      <th>1</th>\n",
       "      <td>Domino's Pizza</td>\n",
       "      <td>Hand Tossed</td>\n",
       "      <td>Cheeses Pizza</td>\n",
       "      <td>Medium (12\")</td>\n",
       "      <td>$7.99</td>\n",
       "    </tr>\n",
       "    <tr>\n",
       "      <th>2</th>\n",
       "      <td>Domino's Pizza</td>\n",
       "      <td>Hand Tossed</td>\n",
       "      <td>Cheeses Pizza</td>\n",
       "      <td>Large (14\")</td>\n",
       "      <td>$9.99</td>\n",
       "    </tr>\n",
       "    <tr>\n",
       "      <th>3</th>\n",
       "      <td>Domino's Pizza</td>\n",
       "      <td>Handmade Pan</td>\n",
       "      <td>Cheeses Pizza</td>\n",
       "      <td>Medium (12\")</td>\n",
       "      <td>$7.99</td>\n",
       "    </tr>\n",
       "    <tr>\n",
       "      <th>4</th>\n",
       "      <td>Domino's Pizza</td>\n",
       "      <td>Crunchy Thin Crust</td>\n",
       "      <td>Cheeses Pizza</td>\n",
       "      <td>Small (10\")</td>\n",
       "      <td>$5.99</td>\n",
       "    </tr>\n",
       "  </tbody>\n",
       "</table>\n",
       "</div>"
      ],
      "text/plain": [
       "          Company          Pizza Name           Type          Size  Price\n",
       "0  Domino's Pizza         Hand Tossed  Cheeses Pizza   Small (10\")  $5.99\n",
       "1  Domino's Pizza         Hand Tossed  Cheeses Pizza  Medium (12\")  $7.99\n",
       "2  Domino's Pizza         Hand Tossed  Cheeses Pizza   Large (14\")  $9.99\n",
       "3  Domino's Pizza        Handmade Pan  Cheeses Pizza  Medium (12\")  $7.99\n",
       "4  Domino's Pizza  Crunchy Thin Crust  Cheeses Pizza   Small (10\")  $5.99"
      ]
     },
     "execution_count": 4,
     "metadata": {},
     "output_type": "execute_result"
    }
   ],
   "source": [
    "df = pd.read_csv(\"pizza_data.csv\")\n",
    "df.head()"
   ]
  },
  {
   "cell_type": "markdown",
   "id": "508aa1e6",
   "metadata": {},
   "source": [
    "#### Checking for NaN's in the df"
   ]
  },
  {
   "cell_type": "code",
   "execution_count": 5,
   "id": "b283f352",
   "metadata": {},
   "outputs": [
    {
     "data": {
      "text/plain": [
       "Company       0\n",
       "Pizza Name    0\n",
       "Type          0\n",
       "Size          0\n",
       "Price         0\n",
       "dtype: int64"
      ]
     },
     "execution_count": 5,
     "metadata": {},
     "output_type": "execute_result"
    }
   ],
   "source": [
    "df.isna().sum()"
   ]
  },
  {
   "cell_type": "markdown",
   "id": "18c158eb",
   "metadata": {},
   "source": [
    "#### Create a quantity column"
   ]
  },
  {
   "cell_type": "code",
   "execution_count": 6,
   "id": "ae6e4726",
   "metadata": {},
   "outputs": [
    {
     "data": {
      "text/html": [
       "<div>\n",
       "<style scoped>\n",
       "    .dataframe tbody tr th:only-of-type {\n",
       "        vertical-align: middle;\n",
       "    }\n",
       "\n",
       "    .dataframe tbody tr th {\n",
       "        vertical-align: top;\n",
       "    }\n",
       "\n",
       "    .dataframe thead th {\n",
       "        text-align: right;\n",
       "    }\n",
       "</style>\n",
       "<table border=\"1\" class=\"dataframe\">\n",
       "  <thead>\n",
       "    <tr style=\"text-align: right;\">\n",
       "      <th></th>\n",
       "      <th>Company</th>\n",
       "      <th>Pizza Name</th>\n",
       "      <th>Type</th>\n",
       "      <th>Size</th>\n",
       "      <th>Price</th>\n",
       "      <th>Quantity Ordered</th>\n",
       "    </tr>\n",
       "  </thead>\n",
       "  <tbody>\n",
       "    <tr>\n",
       "      <th>0</th>\n",
       "      <td>Domino's Pizza</td>\n",
       "      <td>Hand Tossed</td>\n",
       "      <td>Cheeses Pizza</td>\n",
       "      <td>Small (10\")</td>\n",
       "      <td>$5.99</td>\n",
       "      <td>1</td>\n",
       "    </tr>\n",
       "    <tr>\n",
       "      <th>1</th>\n",
       "      <td>Domino's Pizza</td>\n",
       "      <td>Hand Tossed</td>\n",
       "      <td>Cheeses Pizza</td>\n",
       "      <td>Medium (12\")</td>\n",
       "      <td>$7.99</td>\n",
       "      <td>1</td>\n",
       "    </tr>\n",
       "    <tr>\n",
       "      <th>2</th>\n",
       "      <td>Domino's Pizza</td>\n",
       "      <td>Hand Tossed</td>\n",
       "      <td>Cheeses Pizza</td>\n",
       "      <td>Large (14\")</td>\n",
       "      <td>$9.99</td>\n",
       "      <td>1</td>\n",
       "    </tr>\n",
       "    <tr>\n",
       "      <th>3</th>\n",
       "      <td>Domino's Pizza</td>\n",
       "      <td>Handmade Pan</td>\n",
       "      <td>Cheeses Pizza</td>\n",
       "      <td>Medium (12\")</td>\n",
       "      <td>$7.99</td>\n",
       "      <td>1</td>\n",
       "    </tr>\n",
       "    <tr>\n",
       "      <th>4</th>\n",
       "      <td>Domino's Pizza</td>\n",
       "      <td>Crunchy Thin Crust</td>\n",
       "      <td>Cheeses Pizza</td>\n",
       "      <td>Small (10\")</td>\n",
       "      <td>$5.99</td>\n",
       "      <td>1</td>\n",
       "    </tr>\n",
       "  </tbody>\n",
       "</table>\n",
       "</div>"
      ],
      "text/plain": [
       "          Company          Pizza Name           Type          Size  Price  \\\n",
       "0  Domino's Pizza         Hand Tossed  Cheeses Pizza   Small (10\")  $5.99   \n",
       "1  Domino's Pizza         Hand Tossed  Cheeses Pizza  Medium (12\")  $7.99   \n",
       "2  Domino's Pizza         Hand Tossed  Cheeses Pizza   Large (14\")  $9.99   \n",
       "3  Domino's Pizza        Handmade Pan  Cheeses Pizza  Medium (12\")  $7.99   \n",
       "4  Domino's Pizza  Crunchy Thin Crust  Cheeses Pizza   Small (10\")  $5.99   \n",
       "\n",
       "   Quantity Ordered  \n",
       "0                 1  \n",
       "1                 1  \n",
       "2                 1  \n",
       "3                 1  \n",
       "4                 1  "
      ]
     },
     "execution_count": 6,
     "metadata": {},
     "output_type": "execute_result"
    }
   ],
   "source": [
    "df[\"Quantity Ordered\"] = 1\n",
    "df.head()"
   ]
  },
  {
   "cell_type": "markdown",
   "id": "9e681879",
   "metadata": {},
   "source": [
    "## Question #1 Which company has more pizzas on the menu?\n"
   ]
  },
  {
   "cell_type": "code",
   "execution_count": 7,
   "id": "971bec6a",
   "metadata": {},
   "outputs": [
    {
     "data": {
      "text/html": [
       "<div>\n",
       "<style scoped>\n",
       "    .dataframe tbody tr th:only-of-type {\n",
       "        vertical-align: middle;\n",
       "    }\n",
       "\n",
       "    .dataframe tbody tr th {\n",
       "        vertical-align: top;\n",
       "    }\n",
       "\n",
       "    .dataframe thead th {\n",
       "        text-align: right;\n",
       "    }\n",
       "</style>\n",
       "<table border=\"1\" class=\"dataframe\">\n",
       "  <thead>\n",
       "    <tr style=\"text-align: right;\">\n",
       "      <th></th>\n",
       "      <th>Quantity Ordered</th>\n",
       "    </tr>\n",
       "    <tr>\n",
       "      <th>Company</th>\n",
       "      <th></th>\n",
       "    </tr>\n",
       "  </thead>\n",
       "  <tbody>\n",
       "    <tr>\n",
       "      <th>Domino's Pizza</th>\n",
       "      <td>88</td>\n",
       "    </tr>\n",
       "    <tr>\n",
       "      <th>Godfather's Pizza</th>\n",
       "      <td>133</td>\n",
       "    </tr>\n",
       "    <tr>\n",
       "      <th>IMO's Pizza</th>\n",
       "      <td>24</td>\n",
       "    </tr>\n",
       "    <tr>\n",
       "      <th>Pizza Hut</th>\n",
       "      <td>126</td>\n",
       "    </tr>\n",
       "  </tbody>\n",
       "</table>\n",
       "</div>"
      ],
      "text/plain": [
       "                   Quantity Ordered\n",
       "Company                            \n",
       "Domino's Pizza                   88\n",
       "Godfather's Pizza               133\n",
       "IMO's Pizza                      24\n",
       "Pizza Hut                       126"
      ]
     },
     "execution_count": 7,
     "metadata": {},
     "output_type": "execute_result"
    }
   ],
   "source": [
    "dominos  = df.groupby(\"Company\").sum()\n",
    "dominos"
   ]
  },
  {
   "cell_type": "markdown",
   "id": "69e027eb",
   "metadata": {},
   "source": [
    "## Question #2 What is the most expensive pizza in each company?"
   ]
  },
  {
   "cell_type": "markdown",
   "id": "c45fd593",
   "metadata": {},
   "source": [
    "#### Pizza Hut"
   ]
  },
  {
   "cell_type": "code",
   "execution_count": 90,
   "id": "2dfff1ce",
   "metadata": {},
   "outputs": [
    {
     "data": {
      "text/plain": [
       "Company                                         Pizza Hut\n",
       "Pizza Name          Veggie Lover's® Pizza (Thin N Crispy)\n",
       "Type                                        Skinny Pizzas\n",
       "Size                                                Small\n",
       "Price                                               $9.99\n",
       "Quantity Ordered                                        1\n",
       "dtype: object"
      ]
     },
     "execution_count": 90,
     "metadata": {},
     "output_type": "execute_result"
    }
   ],
   "source": [
    "pizza_hut = df[df.Company == \"Pizza Hut\"]\n",
    "pizza_hut.max()"
   ]
  },
  {
   "cell_type": "markdown",
   "id": "439223cc",
   "metadata": {},
   "source": [
    "#### Dominos"
   ]
  },
  {
   "cell_type": "code",
   "execution_count": 92,
   "id": "51444bd0",
   "metadata": {},
   "outputs": [
    {
     "data": {
      "text/plain": [
       "Company                                                Domino's Pizza\n",
       "Pizza Name          Wisconsin 6 Cheese (Hand Tossed, Thin Crust or...\n",
       "Type                                                 Specialty Pizzas\n",
       "Size                                                    X-Large (16\")\n",
       "Price                                                           $9.99\n",
       "Quantity Ordered                                                    1\n",
       "dtype: object"
      ]
     },
     "execution_count": 92,
     "metadata": {},
     "output_type": "execute_result"
    }
   ],
   "source": [
    "dominos = df[df.Company == \"Domino's Pizza\"]\n",
    "dominos.max()"
   ]
  },
  {
   "cell_type": "markdown",
   "id": "dffc772e",
   "metadata": {},
   "source": [
    "#### Godfather's Pizza"
   ]
  },
  {
   "cell_type": "code",
   "execution_count": 93,
   "id": "e0ae16f3",
   "metadata": {},
   "outputs": [
    {
     "data": {
      "text/plain": [
       "Company                                             Godfather's Pizza\n",
       "Pizza Name          Veggie Pie Pizza (Original, Golden or Thin Crust)\n",
       "Type                                                 Specialty Pizzas\n",
       "Size                                                            Small\n",
       "Price                                                           $9.99\n",
       "Quantity Ordered                                                    1\n",
       "dtype: object"
      ]
     },
     "execution_count": 93,
     "metadata": {},
     "output_type": "execute_result"
    }
   ],
   "source": [
    "godfather = df[df.Company == \"Godfather's Pizza\"]\n",
    "godfather.max()"
   ]
  },
  {
   "cell_type": "markdown",
   "id": "a111eac3",
   "metadata": {},
   "source": [
    "#### IMO's Pizza"
   ]
  },
  {
   "cell_type": "code",
   "execution_count": 94,
   "id": "8a19b1cc",
   "metadata": {},
   "outputs": [
    {
     "data": {
      "text/plain": [
       "Company                  IMO's Pizza\n",
       "Pizza Name              Veggie Pizza\n",
       "Type                Specialty Pizzas\n",
       "Size                   X Large (16\")\n",
       "Price                          $9.30\n",
       "Quantity Ordered                   1\n",
       "dtype: object"
      ]
     },
     "execution_count": 94,
     "metadata": {},
     "output_type": "execute_result"
    }
   ],
   "source": [
    "imo = df[df.Company == \"IMO's Pizza\"]\n",
    "imo.max()"
   ]
  }
 ],
 "metadata": {
  "kernelspec": {
   "display_name": "Python 3 (ipykernel)",
   "language": "python",
   "name": "python3"
  },
  "language_info": {
   "codemirror_mode": {
    "name": "ipython",
    "version": 3
   },
   "file_extension": ".py",
   "mimetype": "text/x-python",
   "name": "python",
   "nbconvert_exporter": "python",
   "pygments_lexer": "ipython3",
   "version": "3.9.12"
  },
  "widgets": {
   "application/vnd.jupyter.widget-state+json": {
    "state": {},
    "version_major": 2,
    "version_minor": 0
   }
  }
 },
 "nbformat": 4,
 "nbformat_minor": 5
}
